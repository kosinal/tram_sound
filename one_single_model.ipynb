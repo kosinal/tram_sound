{
 "cells": [
  {
   "cell_type": "code",
   "execution_count": 1,
   "metadata": {},
   "outputs": [],
   "source": [
    "%load_ext autoreload\n",
    "%autoreload 2"
   ]
  },
  {
   "cell_type": "code",
   "execution_count": 2,
   "metadata": {},
   "outputs": [],
   "source": [
    "from tram_pred import make_single_number\n",
    "import numpy as np\n",
    "from collections import deque\n",
    "from tram_pred import prepare_file\n",
    "from xgboost import XGBClassifier\n",
    "from sklearn.ensemble import RandomForestClassifier\n",
    "import matplotlib.pyplot as plt\n",
    "from sklearn.metrics import roc_auc_score, confusion_matrix\n",
    "from sklearn.preprocessing import LabelBinarizer\n",
    "from sklearn.model_selection import StratifiedKFold, GridSearchCV\n",
    "from cust_roc_score import cust_roc_score, multi_class_scorer\n",
    "from pickle import Pickler, Unpickler\n",
    "\n",
    "import os"
   ]
  },
  {
   "cell_type": "code",
   "execution_count": null,
   "metadata": {},
   "outputs": [],
   "source": []
  },
  {
   "cell_type": "code",
   "execution_count": 3,
   "metadata": {},
   "outputs": [],
   "source": [
    "tram_types = [\"1_New\", \"2_CKD_Long\", \"3_CKD_Short\", \"4_Old\"]\n",
    "acc_types = [\"accelerating\", \"braking\"]\n",
    "all_types = acc_types + [\"negative\"]"
   ]
  },
  {
   "cell_type": "code",
   "execution_count": 4,
   "metadata": {},
   "outputs": [],
   "source": [
    "source_path = \"c:/_Projects/sounds_tram/data/dataset\"\n",
    "target_path = \"c:/_Projects/sounds_tram/data/test_files\""
   ]
  },
  {
   "cell_type": "code",
   "execution_count": 5,
   "metadata": {},
   "outputs": [],
   "source": [
    "def create_one_model_features(source_path):\n",
    "    X_neg = deque()\n",
    "    y_neg = deque()\n",
    "    for root, _, files in os.walk(source_path):\n",
    "        if any([a_type in root for a_type in all_types]):\n",
    "            for file in files:\n",
    "                is_mute_file = not any([a_type in root for a_type in acc_types])\n",
    "                tmp_y_type = 0\n",
    "                tmp_y_acc = 0\n",
    "                if is_mute_file:\n",
    "                    tmp_X, _, _ = prepare_file(root, file, time_window=3)\n",
    "                    compound_y = 0\n",
    "                else:\n",
    "                    tmp_X, tmp_y_type, tmp_y_acc = prepare_file(root, file)\n",
    "                    compound_y = make_single_number([tmp_y_type], [tmp_y_acc])[0] + 1\n",
    "                X_neg.extend(tmp_X)\n",
    "                y_neg.extend(np.ones(len(tmp_X), dtype=np.uint8) * compound_y)\n",
    "    return np.array(X_neg), np.array(y_neg)"
   ]
  },
  {
   "cell_type": "code",
   "execution_count": 6,
   "metadata": {},
   "outputs": [],
   "source": [
    "X, y_res = create_one_model_features(source_path)"
   ]
  },
  {
   "cell_type": "code",
   "execution_count": 7,
   "metadata": {},
   "outputs": [
    {
     "data": {
      "image/png": "[encoded data removed]",
      "text/plain": [
       "<Figure size 432x288 with 1 Axes>"
      ]
     },
     "metadata": {
      "needs_background": "light"
     },
     "output_type": "display_data"
    }
   ],
   "source": [
    "data_hist = np.unique(y_res, return_counts=True)\n",
    "plt.bar(data_hist[0], data_hist[1])\n",
    "plt.xticks(data_hist[0], data_hist[0])\n",
    "plt.xlabel(\"Type type\")\n",
    "plt.ylabel(\"Occurrence\")\n",
    "plt.title(\"Type occurence\")\n",
    "plt.show()"
   ]
  },
  {
   "cell_type": "code",
   "execution_count": 8,
   "metadata": {},
   "outputs": [
    {
     "data": {
      "text/plain": [
       "XGBClassifier(base_score=0.5, booster='gbtree', colsample_bylevel=1,\n",
       "              colsample_bynode=1, colsample_bytree=1, eval_metric='auc',\n",
       "              gamma=0, learning_rate=0.3, max_delta_step=0, max_depth=3,\n",
       "              min_child_weight=1, missing=None, n_estimators=300, n_jobs=1,\n",
       "              nthread=-1, num_class=9, objective='multi:softprob',\n",
       "              random_state=0, reg_alpha=0, reg_lambda=1, scale_pos_weight=1,\n",
       "              seed=None, silent=None, subsample=1, verbosity=1)"
      ]
     },
     "execution_count": 8,
     "metadata": {},
     "output_type": "execute_result"
    }
   ],
   "source": [
    "classifier = XGBClassifier(objective='multi:softmax', eval_metric=\"auc\", gamma=0, learning_rate=0.3,\n",
    "                            max_depth=3, min_child_weight=1, n_estimators=300, nthread=-1,\n",
    "                            num_class=len(np.unique(y_res)))\n",
    "classifier.fit(X, y_res)"
   ]
  },
  {
   "cell_type": "code",
   "execution_count": 9,
   "metadata": {},
   "outputs": [
    {
     "data": {
      "text/plain": [
       "array([[3258,    0,    0,    0,    0,    0,    0,    0,    0],\n",
       "       [   0,  493,    0,    0,    0,    0,    0,    0,    0],\n",
       "       [   0,    0,  169,    0,    0,    0,    0,    0,    0],\n",
       "       [   0,    0,    0,   74,    0,    0,    0,    0,    0],\n",
       "       [   0,    0,    0,    0,  410,    0,    0,    0,    0],\n",
       "       [   0,    0,    0,    0,    0,  381,    0,    0,    0],\n",
       "       [   0,    0,    0,    0,    0,    0,  143,    0,    0],\n",
       "       [   0,    0,    0,    0,    0,    0,    0,   62,    0],\n",
       "       [   0,    0,    0,    0,    0,    0,    0,    0,  436]],\n",
       "      dtype=int64)"
      ]
     },
     "execution_count": 9,
     "metadata": {},
     "output_type": "execute_result"
    }
   ],
   "source": [
    "confusion_matrix(y_res, classifier.predict(X))"
   ]
  },
  {
   "cell_type": "code",
   "execution_count": 10,
   "metadata": {},
   "outputs": [
    {
     "data": {
      "text/plain": [
       "1.0"
      ]
     },
     "execution_count": 10,
     "metadata": {},
     "output_type": "execute_result"
    }
   ],
   "source": [
    "lb = LabelBinarizer()\n",
    "\n",
    "lb.fit(y_res)\n",
    "\n",
    "roc_auc_score(lb.transform(y_res), lb.transform(classifier.predict(X)))"
   ]
  },
  {
   "cell_type": "code",
   "execution_count": 11,
   "metadata": {},
   "outputs": [
    {
     "name": "stdout",
     "output_type": "stream",
     "text": [
      "--------------------------------------------------\n",
      "[[646   2   0   0   1   1   0   0   2]\n",
      " [  0  98   0   0   0   1   0   0   0]\n",
      " [  1   0  33   0   0   0   0   0   0]\n",
      " [  0   0   0  13   0   0   0   2   0]\n",
      " [  6   0   0   0  75   0   0   0   1]\n",
      " [  1   0   0   0   0  75   0   1   0]\n",
      " [  0   0   0   0   0   0  29   0   0]\n",
      " [  0   0   0   0   0   0   0  12   1]\n",
      " [  5   0   1   0   0   0   2   0  80]]\n",
      "0.9719123779751809\n",
      "--------------------------------------------------\n",
      "[[649   0   0   1   0   0   1   0   1]\n",
      " [  1  94   0   0   2   2   0   0   0]\n",
      " [  0   0  34   0   0   0   0   0   0]\n",
      " [  1   0   0  10   4   0   0   0   0]\n",
      " [  3   0   1   0  76   1   0   0   1]\n",
      " [  1   1   0   0   0  74   0   0   0]\n",
      " [  3   0   0   0   0   1  23   0   2]\n",
      " [  1   0   0   0   0   0   0  12   0]\n",
      " [  5   0   0   0   2   0   0   0  80]]\n",
      "0.9496419557830369\n",
      "--------------------------------------------------\n",
      "[[647   0   0   0   3   0   0   0   2]\n",
      " [  0  95   0   0   0   3   0   0   1]\n",
      " [  0   0  32   1   0   0   0   0   1]\n",
      " [  0   0   0  12   2   0   0   1   0]\n",
      " [  0   0   0   0  81   0   0   0   1]\n",
      " [  0   2   0   0   0  74   0   0   0]\n",
      " [  1   0   0   0   0   0  27   0   1]\n",
      " [  2   0   0   0   0   0   0   9   1]\n",
      " [  2   0   0   0   3   0   0   0  82]]\n",
      "0.9580443727041844\n",
      "--------------------------------------------------\n",
      "[[643   0   2   3   0   1   1   0   1]\n",
      " [  1  94   0   0   3   0   0   0   0]\n",
      " [  1   0  33   0   0   0   0   0   0]\n",
      " [  0   0   0  15   0   0   0   0   0]\n",
      " [  1   0   1   0  76   0   0   0   4]\n",
      " [  1   1   0   0   0  74   0   0   0]\n",
      " [  1   0   0   0   0   0  25   0   2]\n",
      " [  1   0   0   0   0   0   0  11   0]\n",
      " [  7   1   0   0   3   0   0   0  76]]\n",
      "0.9693515938813346\n",
      "--------------------------------------------------\n",
      "[[646   1   0   0   0   0   1   1   2]\n",
      " [  1  96   0   0   0   1   0   0   0]\n",
      " [  0   0  31   0   1   0   0   0   1]\n",
      " [  0   0   0  12   1   0   0   1   0]\n",
      " [  0   0   1   0  79   0   0   0   2]\n",
      " [  3   3   0   0   0  70   0   0   0]\n",
      " [  1   0   0   0   0   0  27   0   0]\n",
      " [  2   0   0   2   0   0   0   7   1]\n",
      " [  4   0   0   0   0   0   0   0  83]]\n",
      "0.9505680244623734\n"
     ]
    }
   ],
   "source": [
    "skf = StratifiedKFold(n_splits=5, random_state=42, shuffle=True)\n",
    "for train_index, test_index in skf.split(X, y_res):\n",
    "    X_train, X_test = X[train_index], X[test_index]\n",
    "    y_train, y_test = y_res[train_index], y_res[test_index]\n",
    "    classifier = XGBClassifier(objective='multi:softmax', eval_metric=\"auc\", gamma=0, learning_rate=0.3,\n",
    "                            max_depth=3, min_child_weight=1, n_estimators=300, nthread=-1,\n",
    "                            num_class=len(np.unique(y_res)))\n",
    "    classifier.fit(X_train, y_train)\n",
    "    print(\"--------------------------------------------------\")\n",
    "    print(confusion_matrix(y_test, classifier.predict(X_test)))\n",
    "    print(roc_auc_score(lb.transform(y_test), lb.transform(classifier.predict(X_test))))"
   ]
  },
  {
   "cell_type": "code",
   "execution_count": 12,
   "metadata": {},
   "outputs": [],
   "source": [
    "from timeblock import TimeBlock\n",
    "from tram_pred import decode_sound_block, create_output_line, create_test_blocks, filter_blocks"
   ]
  },
  {
   "cell_type": "code",
   "execution_count": 13,
   "metadata": {},
   "outputs": [],
   "source": [
    "threshold = 0.7"
   ]
  },
  {
   "cell_type": "code",
   "execution_count": 14,
   "metadata": {},
   "outputs": [],
   "source": [
    "def get_sound_blocks(input_file, classifier, delta=0.6, min_dur=1.5):\n",
    "    test_sound = create_test_blocks(input_file)\n",
    "    predict_sound = classifier.predict_proba(test_sound)\n",
    "    sound_time = deque()\n",
    "    last_block = None\n",
    "    for index, final_prediction in enumerate(predict_sound):\n",
    "        argmax_prob = np.argmax(final_prediction)\n",
    "        max_prob = final_prediction[argmax_prob]\n",
    "        if max_prob < threshold:\n",
    "            continue\n",
    "        predicted_class = int(classifier.classes_[argmax_prob])\n",
    "        if predicted_class != 0:\n",
    "            seconds = index * 0.2\n",
    "            predicted_class -= 1\n",
    "            if last_block is None or not last_block.is_within_block(seconds):\n",
    "                if last_block is not None:\n",
    "                    sound_time.append(last_block)\n",
    "                last_block = TimeBlock(seconds, predicted_class, delta=delta)\n",
    "            else:\n",
    "                last_block.add_new_time(seconds)\n",
    "                last_block.add(predicted_class)\n",
    "    sound_time.append(last_block)\n",
    "    return filter_blocks(sound_time, min_dur)\n",
    "\n",
    "def create_predict_file(input_path, classifier):\n",
    "    sound_blocks = get_sound_blocks(input_path, classifier)\n",
    "    dec_list = [decode_sound_block(block) for block in sound_blocks] # if block.add_items >= 10]\n",
    "    lines = [create_output_line(time, decoded) for time, _, decoded in dec_list]\n",
    "    nl = \"\\n\"\n",
    "    with open(f\"{input_path}.all.csv\", \"wt\") as f:\n",
    "        f.write(\n",
    "            f\"seconds_offset,accelerating_1_New,accelerating_2_CKD_Long,accelerating_3_CKD_Short,accelerating_4_Old,\"\n",
    "            f\"braking_1_New,braking_2_CKD_Long,braking_3_CKD_Short,braking_4_Old{nl}\")\n",
    "        for line in lines:\n",
    "            f.write(f\"{line}{nl}\")\n",
    "\n",
    "def create_output_csv(target_path, classifier):\n",
    "    for root, _, files in os.walk(target_path):\n",
    "        for file in files:\n",
    "            if file.endswith(\".wav\"):\n",
    "                create_predict_file(os.path.join(root, file), classifier)"
   ]
  },
  {
   "cell_type": "code",
   "execution_count": 15,
   "metadata": {},
   "outputs": [],
   "source": [
    "create_output_csv(target_path, classifier)"
   ]
  }
 ],
 "metadata": {
  "kernelspec": {
   "display_name": "Python 3",
   "language": "python",
   "name": "python3"
  },
  "language_info": {
   "codemirror_mode": {
    "name": "ipython",
    "version": 3
   },
   "file_extension": ".py",
   "mimetype": "text/x-python",
   "name": "python",
   "nbconvert_exporter": "python",
   "pygments_lexer": "ipython3",
   "version": "3.6.6"
  }
 },
 "nbformat": 4,
 "nbformat_minor": 2
}
